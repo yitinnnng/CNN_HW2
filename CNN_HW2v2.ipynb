{
  "nbformat": 4,
  "nbformat_minor": 0,
  "metadata": {
    "colab": {
      "name": "CNN_HW2v2.ipynb",
      "provenance": [],
      "authorship_tag": "ABX9TyNZHBGoTks0HuTvxi+e6t6Y",
      "include_colab_link": true
    },
    "kernelspec": {
      "name": "python3",
      "display_name": "Python 3"
    },
    "accelerator": "GPU"
  },
  "cells": [
    {
      "cell_type": "markdown",
      "metadata": {
        "id": "view-in-github",
        "colab_type": "text"
      },
      "source": [
        "<a href=\"https://colab.research.google.com/github/yitinnnng/CNN_HW2/blob/main/CNN_HW2v2.ipynb\" target=\"_parent\"><img src=\"https://colab.research.google.com/assets/colab-badge.svg\" alt=\"Open In Colab\"/></a>"
      ]
    },
    {
      "cell_type": "code",
      "metadata": {
        "id": "o-cC4EGxFtMM"
      },
      "source": [
        "import numpy as np \n",
        "import keras \n",
        "from keras.models import Sequential\n",
        "from keras.datasets import mnist\n",
        "from keras.layers import Dense, Dropout, Activation, Flatten\n",
        "from keras.utils import np_utils \n",
        "from matplotlib import pyplot as plt\n",
        "import pandas as pd\n",
        "import tensorflow as tf\n",
        "from google.colab import files\n",
        "import io"
      ],
      "execution_count": 2,
      "outputs": []
    },
    {
      "cell_type": "code",
      "metadata": {
        "colab": {
          "resources": {
            "http://localhost:8080/nbextensions/google.colab/files.js": {
              "data": "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",
              "ok": true,
              "headers": [
                [
                  "content-type",
                  "application/javascript"
                ]
              ],
              "status": 200,
              "status_text": ""
            }
          },
          "base_uri": "https://localhost:8080/",
          "height": 348
        },
        "id": "72PpplHCFz-k",
        "outputId": "92dad0ec-92ce-4be7-b707-d624e7137a18"
      },
      "source": [
        "from google.colab import files\n",
        "\n",
        "uploaded = files.upload()\n",
        "\n",
        "for fn in uploaded.keys():\n",
        "  print('User uploaded file \"{name}\" with length {length} bytes'.format(\n",
        "      name=fn, length=len(uploaded[fn])))\n",
        "\n",
        "# 確認 train_all.csv 是否已上載\n",
        "!ls *.* -l\n",
        "\n",
        "# use Pandas to read train_all.csv\n",
        "import pandas as pd\n",
        "df = pd.read_csv(io.BytesIO(uploaded['train_all.csv']))\n",
        "print(df)"
      ],
      "execution_count": 3,
      "outputs": [
        {
          "output_type": "display_data",
          "data": {
            "text/html": [
              "\n",
              "     <input type=\"file\" id=\"files-e7a8177e-1d56-484c-9fbc-7b342284d7ec\" name=\"files[]\" multiple disabled\n",
              "        style=\"border:none\" />\n",
              "     <output id=\"result-e7a8177e-1d56-484c-9fbc-7b342284d7ec\">\n",
              "      Upload widget is only available when the cell has been executed in the\n",
              "      current browser session. Please rerun this cell to enable.\n",
              "      </output>\n",
              "      <script src=\"/nbextensions/google.colab/files.js\"></script> "
            ],
            "text/plain": [
              "<IPython.core.display.HTML object>"
            ]
          },
          "metadata": {
            "tags": []
          }
        },
        {
          "output_type": "stream",
          "text": [
            "Saving train_all.csv to train_all.csv\n",
            "User uploaded file \"train_all.csv\" with length 69921 bytes\n",
            "-rw-r--r-- 1 root root 69921 Dec 24 14:13 train_all.csv\n",
            "     Unnamed: 0  Unnamed: 1  Unnamed: 2  ...  Unnamed: 10  Unnamed: 11  Unnamed: 12\n",
            "0     -0.002390   -0.002091    0.001010  ...     0.001011     0.000984           -1\n",
            "1     -0.002484   -0.002170    0.000752  ...     0.001013     0.000981           -1\n",
            "2     -0.002752   -0.002469    0.000998  ...     0.001038     0.000988           -1\n",
            "3     -0.002925   -0.002657    0.001240  ...     0.001069     0.001009            1\n",
            "4     -0.003050   -0.002783    0.001476  ...     0.001051     0.001009            1\n",
            "..          ...         ...         ...  ...          ...          ...          ...\n",
            "475   -0.001887   -0.001211    0.000661  ...     0.001134     0.001385            1\n",
            "476   -0.001840   -0.001211    0.000724  ...     0.001229     0.001433            1\n",
            "477   -0.002028   -0.001431    0.000122  ...     0.001356     0.001481            1\n",
            "478   -0.001761   -0.001289    0.000528  ...     0.001439     0.001572            1\n",
            "479   -0.001698   -0.001352    0.000317  ...     0.001285     0.001546            1\n",
            "\n",
            "[480 rows x 13 columns]\n"
          ],
          "name": "stdout"
        }
      ]
    },
    {
      "cell_type": "code",
      "metadata": {
        "colab": {
          "base_uri": "https://localhost:8080/"
        },
        "id": "tZM3ttlmF0BR",
        "outputId": "ae4e022a-39c1-475e-b252-7ff5fb88c501"
      },
      "source": [
        "dataset = df.values\n",
        "print(dataset)"
      ],
      "execution_count": 4,
      "outputs": [
        {
          "output_type": "stream",
          "text": [
            "[[-2.389937e-03 -2.091195e-03  1.009520e-03 ...  1.010757e-03\n",
            "   9.836760e-04 -1.000000e+00]\n",
            " [-2.484277e-03 -2.169811e-03  7.523100e-04 ...  1.013102e-03\n",
            "   9.806900e-04 -1.000000e+00]\n",
            " [-2.751572e-03 -2.468553e-03  9.983030e-04 ...  1.038154e-03\n",
            "   9.883500e-04 -1.000000e+00]\n",
            " ...\n",
            " [-2.028302e-03 -1.430818e-03  1.218850e-04 ...  1.356135e-03\n",
            "   1.481274e-03  1.000000e+00]\n",
            " [-1.761006e-03 -1.289308e-03  5.279710e-04 ...  1.439037e-03\n",
            "   1.572327e-03  1.000000e+00]\n",
            " [-1.698113e-03 -1.352201e-03  3.171210e-04 ...  1.285156e-03\n",
            "   1.545728e-03  1.000000e+00]]\n"
          ],
          "name": "stdout"
        }
      ]
    },
    {
      "cell_type": "code",
      "metadata": {
        "id": "aFywVaG3F0DU"
      },
      "source": [
        "X = dataset[:,0:12]\n",
        "Y = dataset[:,12:13]\n",
        "from sklearn import preprocessing\n",
        "sc = preprocessing.StandardScaler()\n",
        "X = sc.fit_transform(X)\n",
        "\n",
        "\n",
        "from sklearn.preprocessing import StandardScaler\n",
        "sc = StandardScaler()\n",
        "X = sc.fit_transform(X)\n",
        "\n",
        "from sklearn.preprocessing import OneHotEncoder\n",
        "ohe = OneHotEncoder()\n",
        "Y = ohe.fit_transform(Y).toarray()"
      ],
      "execution_count": 5,
      "outputs": []
    },
    {
      "cell_type": "code",
      "metadata": {
        "colab": {
          "base_uri": "https://localhost:8080/"
        },
        "id": "Qzv6QvFkF0Fx",
        "outputId": "d5e65124-ff48-4c05-c565-1eee7bb50d04"
      },
      "source": [
        "from sklearn.model_selection import train_test_split\n",
        "X_train,X_test,y_train,y_test = train_test_split(X,Y,test_size = 0.1)\n",
        "print(X_train.shape,X_test.shape,y_train.shape,y_test.shape)"
      ],
      "execution_count": 6,
      "outputs": [
        {
          "output_type": "stream",
          "text": [
            "(432, 12) (48, 12) (432, 2) (48, 2)\n"
          ],
          "name": "stdout"
        }
      ]
    },
    {
      "cell_type": "code",
      "metadata": {
        "id": "qMHXLO8vF_KF"
      },
      "source": [
        "from tensorflow.keras import layers\n",
        "from tensorflow.keras import initializers\n",
        "\n",
        "# layer = layers.Dense(\n",
        "#     units=5,\n",
        "#     kernel_initializer=initializers.RandomNormal(stddev=0.01),\n",
        "#     bias_initializer=initializers.Zeros()\n",
        "# )\n",
        "model = Sequential()\n",
        "#Dense 代表是 fully connected\n",
        "model.add(Dense(5, input_dim=12, activation='relu',kernel_initializer=initializers.RandomNormal(stddev=0.01), ))\n",
        "#mean：均值 stddev：標準差 seed：隨機數種子\n",
        "model.add(Dense(2))\n",
        "#output layer has 2 nodes"
      ],
      "execution_count": 7,
      "outputs": []
    },
    {
      "cell_type": "code",
      "metadata": {
        "id": "BJBi4sOqF_MC"
      },
      "source": [
        "op = keras.optimizers.SGD(learning_rate=0.0009)\n",
        "model.compile(loss='binary_crossentropy', optimizer=op, metrics=['accuracy'])"
      ],
      "execution_count": 8,
      "outputs": []
    },
    {
      "cell_type": "code",
      "metadata": {
        "colab": {
          "base_uri": "https://localhost:8080/"
        },
        "id": "2cXK8xlYF_Oa",
        "outputId": "f1a39b62-b564-47ca-9825-b43ebd0d8bfd"
      },
      "source": [
        "history = model.fit(X_train, y_train, epochs=130, batch_size=64)\n"
      ],
      "execution_count": 10,
      "outputs": [
        {
          "output_type": "stream",
          "text": [
            "Epoch 1/130\n",
            "7/7 [==============================] - 0s 3ms/step - loss: 1.0416 - accuracy: 0.8194\n",
            "Epoch 2/130\n",
            "7/7 [==============================] - 0s 3ms/step - loss: 0.9737 - accuracy: 0.8218\n",
            "Epoch 3/130\n",
            "7/7 [==============================] - 0s 3ms/step - loss: 0.9262 - accuracy: 0.8194\n",
            "Epoch 4/130\n",
            "7/7 [==============================] - 0s 2ms/step - loss: 0.8875 - accuracy: 0.8218\n",
            "Epoch 5/130\n",
            "7/7 [==============================] - 0s 2ms/step - loss: 0.8547 - accuracy: 0.8194\n",
            "Epoch 6/130\n",
            "7/7 [==============================] - 0s 2ms/step - loss: 0.8258 - accuracy: 0.8218\n",
            "Epoch 7/130\n",
            "7/7 [==============================] - 0s 3ms/step - loss: 0.7878 - accuracy: 0.8194\n",
            "Epoch 8/130\n",
            "7/7 [==============================] - 0s 3ms/step - loss: 0.7616 - accuracy: 0.8218\n",
            "Epoch 9/130\n",
            "7/7 [==============================] - 0s 2ms/step - loss: 0.7409 - accuracy: 0.8241\n",
            "Epoch 10/130\n",
            "7/7 [==============================] - 0s 3ms/step - loss: 0.7222 - accuracy: 0.8194\n",
            "Epoch 11/130\n",
            "7/7 [==============================] - 0s 3ms/step - loss: 0.7055 - accuracy: 0.8241\n",
            "Epoch 12/130\n",
            "7/7 [==============================] - 0s 3ms/step - loss: 0.6903 - accuracy: 0.8287\n",
            "Epoch 13/130\n",
            "7/7 [==============================] - 0s 3ms/step - loss: 0.6765 - accuracy: 0.8264\n",
            "Epoch 14/130\n",
            "7/7 [==============================] - 0s 2ms/step - loss: 0.6635 - accuracy: 0.8264\n",
            "Epoch 15/130\n",
            "7/7 [==============================] - 0s 2ms/step - loss: 0.6516 - accuracy: 0.8264\n",
            "Epoch 16/130\n",
            "7/7 [==============================] - 0s 2ms/step - loss: 0.6405 - accuracy: 0.8264\n",
            "Epoch 17/130\n",
            "7/7 [==============================] - 0s 2ms/step - loss: 0.6301 - accuracy: 0.8287\n",
            "Epoch 18/130\n",
            "7/7 [==============================] - 0s 2ms/step - loss: 0.6202 - accuracy: 0.8287\n",
            "Epoch 19/130\n",
            "7/7 [==============================] - 0s 2ms/step - loss: 0.6110 - accuracy: 0.8287\n",
            "Epoch 20/130\n",
            "7/7 [==============================] - 0s 2ms/step - loss: 0.6023 - accuracy: 0.8287\n",
            "Epoch 21/130\n",
            "7/7 [==============================] - 0s 3ms/step - loss: 0.5940 - accuracy: 0.8310\n",
            "Epoch 22/130\n",
            "7/7 [==============================] - 0s 2ms/step - loss: 0.5860 - accuracy: 0.8310\n",
            "Epoch 23/130\n",
            "7/7 [==============================] - 0s 2ms/step - loss: 0.5785 - accuracy: 0.8310\n",
            "Epoch 24/130\n",
            "7/7 [==============================] - 0s 2ms/step - loss: 0.5712 - accuracy: 0.8310\n",
            "Epoch 25/130\n",
            "7/7 [==============================] - 0s 3ms/step - loss: 0.5644 - accuracy: 0.8333\n",
            "Epoch 26/130\n",
            "7/7 [==============================] - 0s 2ms/step - loss: 0.5578 - accuracy: 0.8310\n",
            "Epoch 27/130\n",
            "7/7 [==============================] - 0s 3ms/step - loss: 0.5515 - accuracy: 0.8333\n",
            "Epoch 28/130\n",
            "7/7 [==============================] - 0s 3ms/step - loss: 0.5454 - accuracy: 0.8333\n",
            "Epoch 29/130\n",
            "7/7 [==============================] - 0s 2ms/step - loss: 0.5396 - accuracy: 0.8333\n",
            "Epoch 30/130\n",
            "7/7 [==============================] - 0s 3ms/step - loss: 0.5340 - accuracy: 0.8310\n",
            "Epoch 31/130\n",
            "7/7 [==============================] - 0s 3ms/step - loss: 0.5286 - accuracy: 0.8310\n",
            "Epoch 32/130\n",
            "7/7 [==============================] - 0s 2ms/step - loss: 0.5234 - accuracy: 0.8333\n",
            "Epoch 33/130\n",
            "7/7 [==============================] - 0s 3ms/step - loss: 0.5184 - accuracy: 0.8356\n",
            "Epoch 34/130\n",
            "7/7 [==============================] - 0s 3ms/step - loss: 0.5136 - accuracy: 0.8356\n",
            "Epoch 35/130\n",
            "7/7 [==============================] - 0s 3ms/step - loss: 0.5089 - accuracy: 0.8356\n",
            "Epoch 36/130\n",
            "7/7 [==============================] - 0s 3ms/step - loss: 0.5044 - accuracy: 0.8356\n",
            "Epoch 37/130\n",
            "7/7 [==============================] - 0s 3ms/step - loss: 0.4999 - accuracy: 0.8356\n",
            "Epoch 38/130\n",
            "7/7 [==============================] - 0s 3ms/step - loss: 0.4956 - accuracy: 0.8380\n",
            "Epoch 39/130\n",
            "7/7 [==============================] - 0s 3ms/step - loss: 0.4916 - accuracy: 0.8380\n",
            "Epoch 40/130\n",
            "7/7 [==============================] - 0s 3ms/step - loss: 0.4875 - accuracy: 0.8380\n",
            "Epoch 41/130\n",
            "7/7 [==============================] - 0s 3ms/step - loss: 0.4837 - accuracy: 0.8380\n",
            "Epoch 42/130\n",
            "7/7 [==============================] - 0s 2ms/step - loss: 0.4798 - accuracy: 0.8380\n",
            "Epoch 43/130\n",
            "7/7 [==============================] - 0s 2ms/step - loss: 0.4762 - accuracy: 0.8380\n",
            "Epoch 44/130\n",
            "7/7 [==============================] - 0s 2ms/step - loss: 0.4726 - accuracy: 0.8356\n",
            "Epoch 45/130\n",
            "7/7 [==============================] - 0s 2ms/step - loss: 0.4692 - accuracy: 0.8356\n",
            "Epoch 46/130\n",
            "7/7 [==============================] - 0s 3ms/step - loss: 0.4657 - accuracy: 0.8380\n",
            "Epoch 47/130\n",
            "7/7 [==============================] - 0s 3ms/step - loss: 0.4624 - accuracy: 0.8380\n",
            "Epoch 48/130\n",
            "7/7 [==============================] - 0s 3ms/step - loss: 0.4593 - accuracy: 0.8380\n",
            "Epoch 49/130\n",
            "7/7 [==============================] - 0s 3ms/step - loss: 0.4561 - accuracy: 0.8403\n",
            "Epoch 50/130\n",
            "7/7 [==============================] - 0s 2ms/step - loss: 0.4529 - accuracy: 0.8403\n",
            "Epoch 51/130\n",
            "7/7 [==============================] - 0s 3ms/step - loss: 0.4499 - accuracy: 0.8403\n",
            "Epoch 52/130\n",
            "7/7 [==============================] - 0s 3ms/step - loss: 0.4470 - accuracy: 0.8403\n",
            "Epoch 53/130\n",
            "7/7 [==============================] - 0s 2ms/step - loss: 0.4441 - accuracy: 0.8403\n",
            "Epoch 54/130\n",
            "7/7 [==============================] - 0s 2ms/step - loss: 0.4413 - accuracy: 0.8403\n",
            "Epoch 55/130\n",
            "7/7 [==============================] - 0s 2ms/step - loss: 0.4385 - accuracy: 0.8403\n",
            "Epoch 56/130\n",
            "7/7 [==============================] - 0s 3ms/step - loss: 0.4359 - accuracy: 0.8403\n",
            "Epoch 57/130\n",
            "7/7 [==============================] - 0s 2ms/step - loss: 0.4333 - accuracy: 0.8403\n",
            "Epoch 58/130\n",
            "7/7 [==============================] - 0s 3ms/step - loss: 0.4308 - accuracy: 0.8426\n",
            "Epoch 59/130\n",
            "7/7 [==============================] - 0s 3ms/step - loss: 0.4282 - accuracy: 0.8426\n",
            "Epoch 60/130\n",
            "7/7 [==============================] - 0s 3ms/step - loss: 0.4258 - accuracy: 0.8426\n",
            "Epoch 61/130\n",
            "7/7 [==============================] - 0s 3ms/step - loss: 0.4235 - accuracy: 0.8426\n",
            "Epoch 62/130\n",
            "7/7 [==============================] - 0s 2ms/step - loss: 0.4211 - accuracy: 0.8426\n",
            "Epoch 63/130\n",
            "7/7 [==============================] - 0s 3ms/step - loss: 0.4188 - accuracy: 0.8426\n",
            "Epoch 64/130\n",
            "7/7 [==============================] - 0s 3ms/step - loss: 0.4166 - accuracy: 0.8426\n",
            "Epoch 65/130\n",
            "7/7 [==============================] - 0s 3ms/step - loss: 0.4144 - accuracy: 0.8426\n",
            "Epoch 66/130\n",
            "7/7 [==============================] - 0s 2ms/step - loss: 0.4123 - accuracy: 0.8426\n",
            "Epoch 67/130\n",
            "7/7 [==============================] - 0s 2ms/step - loss: 0.4102 - accuracy: 0.8426\n",
            "Epoch 68/130\n",
            "7/7 [==============================] - 0s 2ms/step - loss: 0.4081 - accuracy: 0.8426\n",
            "Epoch 69/130\n",
            "7/7 [==============================] - 0s 3ms/step - loss: 0.4062 - accuracy: 0.8426\n",
            "Epoch 70/130\n",
            "7/7 [==============================] - 0s 3ms/step - loss: 0.4042 - accuracy: 0.8426\n",
            "Epoch 71/130\n",
            "7/7 [==============================] - 0s 2ms/step - loss: 0.4023 - accuracy: 0.8426\n",
            "Epoch 72/130\n",
            "7/7 [==============================] - 0s 3ms/step - loss: 0.4005 - accuracy: 0.8426\n",
            "Epoch 73/130\n",
            "7/7 [==============================] - 0s 3ms/step - loss: 0.3987 - accuracy: 0.8426\n",
            "Epoch 74/130\n",
            "7/7 [==============================] - 0s 3ms/step - loss: 0.3970 - accuracy: 0.8426\n",
            "Epoch 75/130\n",
            "7/7 [==============================] - 0s 3ms/step - loss: 0.3953 - accuracy: 0.8426\n",
            "Epoch 76/130\n",
            "7/7 [==============================] - 0s 3ms/step - loss: 0.3937 - accuracy: 0.8426\n",
            "Epoch 77/130\n",
            "7/7 [==============================] - 0s 3ms/step - loss: 0.3921 - accuracy: 0.8426\n",
            "Epoch 78/130\n",
            "7/7 [==============================] - 0s 3ms/step - loss: 0.3906 - accuracy: 0.8426\n",
            "Epoch 79/130\n",
            "7/7 [==============================] - 0s 3ms/step - loss: 0.3891 - accuracy: 0.8426\n",
            "Epoch 80/130\n",
            "7/7 [==============================] - 0s 2ms/step - loss: 0.3877 - accuracy: 0.8426\n",
            "Epoch 81/130\n",
            "7/7 [==============================] - 0s 3ms/step - loss: 0.3863 - accuracy: 0.8449\n",
            "Epoch 82/130\n",
            "7/7 [==============================] - 0s 3ms/step - loss: 0.3850 - accuracy: 0.8449\n",
            "Epoch 83/130\n",
            "7/7 [==============================] - 0s 3ms/step - loss: 0.3837 - accuracy: 0.8449\n",
            "Epoch 84/130\n",
            "7/7 [==============================] - 0s 3ms/step - loss: 0.3824 - accuracy: 0.8449\n",
            "Epoch 85/130\n",
            "7/7 [==============================] - 0s 2ms/step - loss: 0.3812 - accuracy: 0.8449\n",
            "Epoch 86/130\n",
            "7/7 [==============================] - 0s 3ms/step - loss: 0.3800 - accuracy: 0.8449\n",
            "Epoch 87/130\n",
            "7/7 [==============================] - 0s 3ms/step - loss: 0.3789 - accuracy: 0.8449\n",
            "Epoch 88/130\n",
            "7/7 [==============================] - 0s 3ms/step - loss: 0.3778 - accuracy: 0.8449\n",
            "Epoch 89/130\n",
            "7/7 [==============================] - 0s 3ms/step - loss: 0.3767 - accuracy: 0.8449\n",
            "Epoch 90/130\n",
            "7/7 [==============================] - 0s 3ms/step - loss: 0.3757 - accuracy: 0.8449\n",
            "Epoch 91/130\n",
            "7/7 [==============================] - 0s 3ms/step - loss: 0.3747 - accuracy: 0.8449\n",
            "Epoch 92/130\n",
            "7/7 [==============================] - 0s 3ms/step - loss: 0.3737 - accuracy: 0.8449\n",
            "Epoch 93/130\n",
            "7/7 [==============================] - 0s 3ms/step - loss: 0.3727 - accuracy: 0.8449\n",
            "Epoch 94/130\n",
            "7/7 [==============================] - 0s 2ms/step - loss: 0.3718 - accuracy: 0.8449\n",
            "Epoch 95/130\n",
            "7/7 [==============================] - 0s 2ms/step - loss: 0.3709 - accuracy: 0.8426\n",
            "Epoch 96/130\n",
            "7/7 [==============================] - 0s 3ms/step - loss: 0.3700 - accuracy: 0.8426\n",
            "Epoch 97/130\n",
            "7/7 [==============================] - 0s 2ms/step - loss: 0.3692 - accuracy: 0.8426\n",
            "Epoch 98/130\n",
            "7/7 [==============================] - 0s 3ms/step - loss: 0.3684 - accuracy: 0.8426\n",
            "Epoch 99/130\n",
            "7/7 [==============================] - 0s 3ms/step - loss: 0.3676 - accuracy: 0.8426\n",
            "Epoch 100/130\n",
            "7/7 [==============================] - 0s 4ms/step - loss: 0.3668 - accuracy: 0.8426\n",
            "Epoch 101/130\n",
            "7/7 [==============================] - 0s 3ms/step - loss: 0.3661 - accuracy: 0.8426\n",
            "Epoch 102/130\n",
            "7/7 [==============================] - 0s 3ms/step - loss: 0.3654 - accuracy: 0.8426\n",
            "Epoch 103/130\n",
            "7/7 [==============================] - 0s 3ms/step - loss: 0.3646 - accuracy: 0.8426\n",
            "Epoch 104/130\n",
            "7/7 [==============================] - 0s 3ms/step - loss: 0.3639 - accuracy: 0.8426\n",
            "Epoch 105/130\n",
            "7/7 [==============================] - 0s 3ms/step - loss: 0.3632 - accuracy: 0.8403\n",
            "Epoch 106/130\n",
            "7/7 [==============================] - 0s 2ms/step - loss: 0.3626 - accuracy: 0.8403\n",
            "Epoch 107/130\n",
            "7/7 [==============================] - 0s 3ms/step - loss: 0.3620 - accuracy: 0.8403\n",
            "Epoch 108/130\n",
            "7/7 [==============================] - 0s 2ms/step - loss: 0.3613 - accuracy: 0.8403\n",
            "Epoch 109/130\n",
            "7/7 [==============================] - 0s 3ms/step - loss: 0.3607 - accuracy: 0.8403\n",
            "Epoch 110/130\n",
            "7/7 [==============================] - 0s 3ms/step - loss: 0.3601 - accuracy: 0.8403\n",
            "Epoch 111/130\n",
            "7/7 [==============================] - 0s 3ms/step - loss: 0.3594 - accuracy: 0.8403\n",
            "Epoch 112/130\n",
            "7/7 [==============================] - 0s 3ms/step - loss: 0.3589 - accuracy: 0.8403\n",
            "Epoch 113/130\n",
            "7/7 [==============================] - 0s 3ms/step - loss: 0.3584 - accuracy: 0.8403\n",
            "Epoch 114/130\n",
            "7/7 [==============================] - 0s 3ms/step - loss: 0.3577 - accuracy: 0.8403\n",
            "Epoch 115/130\n",
            "7/7 [==============================] - 0s 2ms/step - loss: 0.3572 - accuracy: 0.8426\n",
            "Epoch 116/130\n",
            "7/7 [==============================] - 0s 2ms/step - loss: 0.3567 - accuracy: 0.8426\n",
            "Epoch 117/130\n",
            "7/7 [==============================] - 0s 2ms/step - loss: 0.3562 - accuracy: 0.8426\n",
            "Epoch 118/130\n",
            "7/7 [==============================] - 0s 3ms/step - loss: 0.3557 - accuracy: 0.8426\n",
            "Epoch 119/130\n",
            "7/7 [==============================] - 0s 3ms/step - loss: 0.3551 - accuracy: 0.8426\n",
            "Epoch 120/130\n",
            "7/7 [==============================] - 0s 3ms/step - loss: 0.3547 - accuracy: 0.8426\n",
            "Epoch 121/130\n",
            "7/7 [==============================] - 0s 3ms/step - loss: 0.3542 - accuracy: 0.8426\n",
            "Epoch 122/130\n",
            "7/7 [==============================] - 0s 3ms/step - loss: 0.3537 - accuracy: 0.8426\n",
            "Epoch 123/130\n",
            "7/7 [==============================] - 0s 3ms/step - loss: 0.3533 - accuracy: 0.8426\n",
            "Epoch 124/130\n",
            "7/7 [==============================] - 0s 3ms/step - loss: 0.3528 - accuracy: 0.8426\n",
            "Epoch 125/130\n",
            "7/7 [==============================] - 0s 3ms/step - loss: 0.3523 - accuracy: 0.8426\n",
            "Epoch 126/130\n",
            "7/7 [==============================] - 0s 3ms/step - loss: 0.3520 - accuracy: 0.8403\n",
            "Epoch 127/130\n",
            "7/7 [==============================] - 0s 3ms/step - loss: 0.3515 - accuracy: 0.8403\n",
            "Epoch 128/130\n",
            "7/7 [==============================] - 0s 3ms/step - loss: 0.3511 - accuracy: 0.8403\n",
            "Epoch 129/130\n",
            "7/7 [==============================] - 0s 3ms/step - loss: 0.3506 - accuracy: 0.8403\n",
            "Epoch 130/130\n",
            "7/7 [==============================] - 0s 3ms/step - loss: 0.3503 - accuracy: 0.8403\n"
          ],
          "name": "stdout"
        }
      ]
    },
    {
      "cell_type": "code",
      "metadata": {
        "colab": {
          "base_uri": "https://localhost:8080/",
          "height": 573
        },
        "id": "oYGmI97PGDj_",
        "outputId": "f1c4b62b-94c6-4ccd-8394-fcde85fbd564"
      },
      "source": [
        "import matplotlib.pyplot as plt\n",
        "plt.plot(history.history['loss'])\n",
        "plt.title('Model loss')\n",
        "plt.ylabel('Loss')\n",
        "plt.xlabel('Epoch')\n",
        "plt.legend(['Train', 'Val'], loc='upper right')\n",
        "plt.show()\n",
        "plt.plot(history.history['accuracy'])\n",
        "plt.title('Model accuracy')\n",
        "plt.ylabel('Accuracy')\n",
        "plt.xlabel('Epoch')\n",
        "plt.legend(['Train', 'Val'], loc='lower right')\n",
        "plt.show()"
      ],
      "execution_count": 12,
      "outputs": [
        {
          "output_type": "display_data",
          "data": {
            "image/png": "[encoded data removed]",
            "text/plain": [
              "<Figure size 432x288 with 1 Axes>"
            ]
          },
          "metadata": {
            "tags": [],
            "needs_background": "light"
          }
        },
        {
          "output_type": "display_data",
          "data": {
            "image/png": "[encoded data removed]",
            "text/plain": [
              "<Figure size 432x288 with 1 Axes>"
            ]
          },
          "metadata": {
            "tags": [],
            "needs_background": "light"
          }
        }
      ]
    },
    {
      "cell_type": "code",
      "metadata": {
        "colab": {
          "base_uri": "https://localhost:8080/"
        },
        "id": "K-ZM29Y5GDmU",
        "outputId": "ce3dd38b-7904-436c-9879-152309d04345"
      },
      "source": [
        "model.evaluate(X_test, y_test)[1]\n",
        "#評估準確度 [1]=accuracy [0]=loss\n",
        "#print(X_train.shape,X_test.shape,y_train.shape,y_test.shape)"
      ],
      "execution_count": 13,
      "outputs": [
        {
          "output_type": "stream",
          "text": [
            "2/2 [==============================] - 0s 6ms/step - loss: 0.5153 - accuracy: 0.8750\n"
          ],
          "name": "stdout"
        },
        {
          "output_type": "execute_result",
          "data": {
            "text/plain": [
              "0.875"
            ]
          },
          "metadata": {
            "tags": []
          },
          "execution_count": 13
        }
      ]
    }
  ]
}