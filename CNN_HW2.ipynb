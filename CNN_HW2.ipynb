{
  "nbformat": 4,
  "nbformat_minor": 0,
  "metadata": {
    "colab": {
      "name": "CNN_HW2.ipynb",
      "provenance": [],
      "mount_file_id": "1QA-awezI3JnblLC5XR3g6yjdUhxwqhuN",
      "authorship_tag": "ABX9TyNiS4Frf9cwQ9EG/5Ii8hfN",
      "include_colab_link": true
    },
    "kernelspec": {
      "name": "python3",
      "display_name": "Python 3"
    },
    "accelerator": "GPU"
  },
  "cells": [
    {
      "cell_type": "markdown",
      "metadata": {
        "id": "view-in-github",
        "colab_type": "text"
      },
      "source": [
        "<a href=\"https://colab.research.google.com/github/yitinnnng/CNN_HW2/blob/main/CNN_HW2.ipynb\" target=\"_parent\"><img src=\"https://colab.research.google.com/assets/colab-badge.svg\" alt=\"Open In Colab\"/></a>"
      ]
    },
    {
      "cell_type": "code",
      "metadata": {
        "id": "XsG0TQPIxPNL"
      },
      "source": [
        "import numpy as np \n",
        "import keras \n",
        "from keras.models import Sequential\n",
        "from keras.datasets import mnist\n",
        "from keras.layers import Dense, Dropout, Activation, Flatten\n",
        "from keras.utils import np_utils   \n",
        "from matplotlib import pyplot as plt\n",
        "import pandas as pd\n",
        "import tensorflow as tf\n",
        "from google.colab import files\n",
        "import io"
      ],
      "execution_count": 1,
      "outputs": []
    },
    {
      "cell_type": "code",
      "metadata": {
        "colab": {
          "resources": {
            "http://localhost:8080/nbextensions/google.colab/files.js": {
              "data": "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",
              "ok": true,
              "headers": [
                [
                  "content-type",
                  "application/javascript"
                ]
              ],
              "status": 200,
              "status_text": ""
            }
          },
          "base_uri": "https://localhost:8080/",
          "height": 365
        },
        "id": "kZ1Q8PUyoxyP",
        "outputId": "056b0daf-7e90-442f-9c66-92088337bf7f"
      },
      "source": [
        "from google.colab import files\n",
        "\n",
        "uploaded = files.upload()\n",
        "\n",
        "for fn in uploaded.keys():\n",
        "  print('User uploaded file \"{name}\" with length {length} bytes'.format(\n",
        "      name=fn, length=len(uploaded[fn])))\n",
        "\n",
        "# 確認 train_all.csv 是否已上載\n",
        "!ls *.* -l\n",
        "\n",
        "# use Pandas to read train_all.csv\n",
        "import pandas as pd\n",
        "df = pd.read_csv(io.BytesIO(uploaded['train_all.csv']))\n",
        "print(df)"
      ],
      "execution_count": 3,
      "outputs": [
        {
          "output_type": "display_data",
          "data": {
            "text/html": [
              "\n",
              "     <input type=\"file\" id=\"files-deca3962-f75a-4e13-9f0f-79e226ba1a28\" name=\"files[]\" multiple disabled\n",
              "        style=\"border:none\" />\n",
              "     <output id=\"result-deca3962-f75a-4e13-9f0f-79e226ba1a28\">\n",
              "      Upload widget is only available when the cell has been executed in the\n",
              "      current browser session. Please rerun this cell to enable.\n",
              "      </output>\n",
              "      <script src=\"/nbextensions/google.colab/files.js\"></script> "
            ],
            "text/plain": [
              "<IPython.core.display.HTML object>"
            ]
          },
          "metadata": {
            "tags": []
          }
        },
        {
          "output_type": "stream",
          "text": [
            "Saving train_all.csv to train_all (1).csv\n",
            "User uploaded file \"train_all.csv\" with length 69921 bytes\n",
            "-rw-r--r-- 1 root root 69921 Dec 24 13:54 'train_all (1).csv'\n",
            "-rw-r--r-- 1 root root 69921 Dec 24 13:54  train_all.csv\n",
            "     Unnamed: 0  Unnamed: 1  Unnamed: 2  ...  Unnamed: 10  Unnamed: 11  Unnamed: 12\n",
            "0     -0.002390   -0.002091    0.001010  ...     0.001011     0.000984           -1\n",
            "1     -0.002484   -0.002170    0.000752  ...     0.001013     0.000981           -1\n",
            "2     -0.002752   -0.002469    0.000998  ...     0.001038     0.000988           -1\n",
            "3     -0.002925   -0.002657    0.001240  ...     0.001069     0.001009            1\n",
            "4     -0.003050   -0.002783    0.001476  ...     0.001051     0.001009            1\n",
            "..          ...         ...         ...  ...          ...          ...          ...\n",
            "475   -0.001887   -0.001211    0.000661  ...     0.001134     0.001385            1\n",
            "476   -0.001840   -0.001211    0.000724  ...     0.001229     0.001433            1\n",
            "477   -0.002028   -0.001431    0.000122  ...     0.001356     0.001481            1\n",
            "478   -0.001761   -0.001289    0.000528  ...     0.001439     0.001572            1\n",
            "479   -0.001698   -0.001352    0.000317  ...     0.001285     0.001546            1\n",
            "\n",
            "[480 rows x 13 columns]\n"
          ],
          "name": "stdout"
        }
      ]
    },
    {
      "cell_type": "code",
      "metadata": {
        "colab": {
          "base_uri": "https://localhost:8080/"
        },
        "id": "Qg7zBX1s15_o",
        "outputId": "470c76b1-60c0-4650-8f47-3f6d7d5bb8bb"
      },
      "source": [
        "dataset = df.values\n",
        "print(dataset)"
      ],
      "execution_count": 4,
      "outputs": [
        {
          "output_type": "stream",
          "text": [
            "[[-2.389937e-03 -2.091195e-03  1.009520e-03 ...  1.010757e-03\n",
            "   9.836760e-04 -1.000000e+00]\n",
            " [-2.484277e-03 -2.169811e-03  7.523100e-04 ...  1.013102e-03\n",
            "   9.806900e-04 -1.000000e+00]\n",
            " [-2.751572e-03 -2.468553e-03  9.983030e-04 ...  1.038154e-03\n",
            "   9.883500e-04 -1.000000e+00]\n",
            " ...\n",
            " [-2.028302e-03 -1.430818e-03  1.218850e-04 ...  1.356135e-03\n",
            "   1.481274e-03  1.000000e+00]\n",
            " [-1.761006e-03 -1.289308e-03  5.279710e-04 ...  1.439037e-03\n",
            "   1.572327e-03  1.000000e+00]\n",
            " [-1.698113e-03 -1.352201e-03  3.171210e-04 ...  1.285156e-03\n",
            "   1.545728e-03  1.000000e+00]]\n"
          ],
          "name": "stdout"
        }
      ]
    },
    {
      "cell_type": "code",
      "metadata": {
        "colab": {
          "base_uri": "https://localhost:8080/"
        },
        "id": "wqSQ47hY2PTd",
        "outputId": "9bb16fef-5e71-4f24-8abf-f827d7fe7b6f"
      },
      "source": [
        "X = dataset[:,0:12]\n",
        "Y = dataset[:,12:13]\n",
        "# from sklearn import preprocessing\n",
        "# sc = preprocessing.StandardScaler()\n",
        "# X = sc.fit_transform(X)\n",
        "# print(X)\n",
        "X -= np.mean(X, axis=0)\n",
        "X /= np.std(X, axis=0)\n",
        "print(X)\n",
        "# from sklearn.preprocessing import StandardScaler\n",
        "# sc = StandardScaler()\n",
        "# X = sc.fit_transform(X)\n",
        "\n",
        "from sklearn.preprocessing import OneHotEncoder\n",
        "ohe = OneHotEncoder()\n",
        "Y = ohe.fit_transform(Y).toarray()\n",
        "#This creates a binary column for each category and returns a sparse matrix or dense array"
      ],
      "execution_count": 5,
      "outputs": [
        {
          "output_type": "stream",
          "text": [
            "[[ 0.21458695  0.00801811  1.09461625 ... -0.86367769 -0.3053205\n",
            "  -0.42676683]\n",
            " [ 0.1661761  -0.04275725  0.58791473 ... -0.86531765 -0.29243074\n",
            "  -0.44068604]\n",
            " [ 0.02901291 -0.23570443  1.07251886 ... -0.86172124 -0.15472743\n",
            "  -0.40497902]\n",
            " ...\n",
            " [ 0.40016099  0.4345329  -0.65401719 ...  1.10409399  1.59311855\n",
            "   1.89278171]\n",
            " [ 0.5373247   0.52592934  0.14596879 ...  1.78208354  2.04880592\n",
            "   2.31722443]\n",
            " [ 0.56959842  0.48530891 -0.26940392 ...  0.94709485  1.20296832\n",
            "   2.19323344]]\n"
          ],
          "name": "stdout"
        }
      ]
    },
    {
      "cell_type": "code",
      "metadata": {
        "colab": {
          "base_uri": "https://localhost:8080/"
        },
        "id": "IBqtte3I2UWk",
        "outputId": "e59d6cab-d209-4705-f459-62e4c4ff3d5f"
      },
      "source": [
        "from sklearn.model_selection import train_test_split\n",
        "X_train,X_test,y_train,y_test = train_test_split(X,Y,test_size = 0.1)\n",
        "print(X_train.shape,X_test.shape,y_train.shape,y_test.shape)"
      ],
      "execution_count": 6,
      "outputs": [
        {
          "output_type": "stream",
          "text": [
            "(432, 12) (48, 12) (432, 2) (48, 2)\n"
          ],
          "name": "stdout"
        }
      ]
    },
    {
      "cell_type": "code",
      "metadata": {
        "id": "LMrlNqzk2ZPz"
      },
      "source": [
        "model = Sequential()\n",
        "#Dense 代表是 fully connected\n",
        "model.add(Dense(20, input_dim=12, activation='relu'))\n",
        "#add weight initialization\n",
        "#model.add(Dense(5, input_dim=12, activation='relu',kernel_initializer=initializers.RandomNormal(stddev=0.01), ))\n",
        "model.add(Dense(2))"
      ],
      "execution_count": 7,
      "outputs": []
    },
    {
      "cell_type": "code",
      "metadata": {
        "id": "l12fyhZB-wgL"
      },
      "source": [
        "from keras import initializers\n",
        "#op = keras.optimizers.SGD(learning_rate=0.000)\n",
        "op = keras.optimizers.Adadelta(learning_rate=1)\n",
        "#op = keras.optimizers.SGD(lr=0.01, decay=1e-6, momentum=0.99, nesterov=True)\n",
        "#op = keras.optimizers.SGD(momentum=0.99, nesterov=True)\n",
        "model.compile(loss='binary_crossentropy', optimizer=op, metrics=['accuracy'])"
      ],
      "execution_count": 8,
      "outputs": []
    },
    {
      "cell_type": "code",
      "metadata": {
        "id": "zqsQbq_1-yaw",
        "colab": {
          "base_uri": "https://localhost:8080/"
        },
        "outputId": "38b07be9-cf3d-4ac4-d494-09abce3a2370"
      },
      "source": [
        "history = model.fit(X_train, y_train, epochs=200, batch_size=48)\n"
      ],
      "execution_count": 9,
      "outputs": [
        {
          "output_type": "stream",
          "text": [
            "Epoch 1/200\n",
            "9/9 [==============================] - 2s 3ms/step - loss: 4.6386 - accuracy: 0.5064\n",
            "Epoch 2/200\n",
            "9/9 [==============================] - 0s 2ms/step - loss: 4.3161 - accuracy: 0.5884\n",
            "Epoch 3/200\n",
            "9/9 [==============================] - 0s 2ms/step - loss: 3.8012 - accuracy: 0.6015\n",
            "Epoch 4/200\n",
            "9/9 [==============================] - 0s 2ms/step - loss: 3.5254 - accuracy: 0.6554\n",
            "Epoch 5/200\n",
            "9/9 [==============================] - 0s 2ms/step - loss: 3.4730 - accuracy: 0.6777\n",
            "Epoch 6/200\n",
            "9/9 [==============================] - 0s 2ms/step - loss: 2.8269 - accuracy: 0.7228\n",
            "Epoch 7/200\n",
            "9/9 [==============================] - 0s 2ms/step - loss: 2.6673 - accuracy: 0.7447\n",
            "Epoch 8/200\n",
            "9/9 [==============================] - 0s 2ms/step - loss: 2.4621 - accuracy: 0.7757\n",
            "Epoch 9/200\n",
            "9/9 [==============================] - 0s 2ms/step - loss: 2.3595 - accuracy: 0.7890\n",
            "Epoch 10/200\n",
            "9/9 [==============================] - 0s 2ms/step - loss: 2.1243 - accuracy: 0.8041\n",
            "Epoch 11/200\n",
            "9/9 [==============================] - 0s 2ms/step - loss: 2.1172 - accuracy: 0.8056\n",
            "Epoch 12/200\n",
            "9/9 [==============================] - 0s 2ms/step - loss: 2.0492 - accuracy: 0.7684\n",
            "Epoch 13/200\n",
            "9/9 [==============================] - 0s 2ms/step - loss: 1.9005 - accuracy: 0.8039\n",
            "Epoch 14/200\n",
            "9/9 [==============================] - 0s 2ms/step - loss: 1.7139 - accuracy: 0.7982\n",
            "Epoch 15/200\n",
            "9/9 [==============================] - 0s 2ms/step - loss: 1.9671 - accuracy: 0.7884\n",
            "Epoch 16/200\n",
            "9/9 [==============================] - 0s 2ms/step - loss: 1.6175 - accuracy: 0.7845\n",
            "Epoch 17/200\n",
            "9/9 [==============================] - 0s 2ms/step - loss: 1.9583 - accuracy: 0.7765\n",
            "Epoch 18/200\n",
            "9/9 [==============================] - 0s 3ms/step - loss: 1.5762 - accuracy: 0.8158\n",
            "Epoch 19/200\n",
            "9/9 [==============================] - 0s 2ms/step - loss: 1.5817 - accuracy: 0.7940\n",
            "Epoch 20/200\n",
            "9/9 [==============================] - 0s 2ms/step - loss: 1.4699 - accuracy: 0.8250\n",
            "Epoch 21/200\n",
            "9/9 [==============================] - 0s 2ms/step - loss: 1.6445 - accuracy: 0.8114\n",
            "Epoch 22/200\n",
            "9/9 [==============================] - 0s 2ms/step - loss: 1.5999 - accuracy: 0.8015\n",
            "Epoch 23/200\n",
            "9/9 [==============================] - 0s 2ms/step - loss: 1.4559 - accuracy: 0.8296\n",
            "Epoch 24/200\n",
            "9/9 [==============================] - 0s 2ms/step - loss: 1.3975 - accuracy: 0.8253\n",
            "Epoch 25/200\n",
            "9/9 [==============================] - 0s 2ms/step - loss: 1.2952 - accuracy: 0.8241\n",
            "Epoch 26/200\n",
            "9/9 [==============================] - 0s 2ms/step - loss: 1.3815 - accuracy: 0.8189\n",
            "Epoch 27/200\n",
            "9/9 [==============================] - 0s 2ms/step - loss: 1.3444 - accuracy: 0.8093\n",
            "Epoch 28/200\n",
            "9/9 [==============================] - 0s 2ms/step - loss: 1.4270 - accuracy: 0.7982\n",
            "Epoch 29/200\n",
            "9/9 [==============================] - 0s 2ms/step - loss: 1.4987 - accuracy: 0.7802\n",
            "Epoch 30/200\n",
            "9/9 [==============================] - 0s 2ms/step - loss: 1.2709 - accuracy: 0.8307\n",
            "Epoch 31/200\n",
            "9/9 [==============================] - 0s 2ms/step - loss: 1.1728 - accuracy: 0.8234\n",
            "Epoch 32/200\n",
            "9/9 [==============================] - 0s 2ms/step - loss: 1.1595 - accuracy: 0.8204\n",
            "Epoch 33/200\n",
            "9/9 [==============================] - 0s 2ms/step - loss: 1.3376 - accuracy: 0.8169\n",
            "Epoch 34/200\n",
            "9/9 [==============================] - 0s 2ms/step - loss: 1.2505 - accuracy: 0.8270\n",
            "Epoch 35/200\n",
            "9/9 [==============================] - 0s 2ms/step - loss: 1.3178 - accuracy: 0.8171\n",
            "Epoch 36/200\n",
            "9/9 [==============================] - 0s 2ms/step - loss: 1.3156 - accuracy: 0.8352\n",
            "Epoch 37/200\n",
            "9/9 [==============================] - 0s 2ms/step - loss: 1.2403 - accuracy: 0.8220\n",
            "Epoch 38/200\n",
            "9/9 [==============================] - 0s 2ms/step - loss: 1.2579 - accuracy: 0.8333\n",
            "Epoch 39/200\n",
            "9/9 [==============================] - 0s 2ms/step - loss: 1.3410 - accuracy: 0.8149\n",
            "Epoch 40/200\n",
            "9/9 [==============================] - 0s 2ms/step - loss: 1.2493 - accuracy: 0.7948\n",
            "Epoch 41/200\n",
            "9/9 [==============================] - 0s 2ms/step - loss: 1.2800 - accuracy: 0.8080\n",
            "Epoch 42/200\n",
            "9/9 [==============================] - 0s 2ms/step - loss: 1.2221 - accuracy: 0.8191\n",
            "Epoch 43/200\n",
            "9/9 [==============================] - 0s 2ms/step - loss: 1.3348 - accuracy: 0.7980\n",
            "Epoch 44/200\n",
            "9/9 [==============================] - 0s 2ms/step - loss: 1.2158 - accuracy: 0.8281\n",
            "Epoch 45/200\n",
            "9/9 [==============================] - 0s 2ms/step - loss: 1.1844 - accuracy: 0.8332\n",
            "Epoch 46/200\n",
            "9/9 [==============================] - 0s 2ms/step - loss: 1.3907 - accuracy: 0.8038\n",
            "Epoch 47/200\n",
            "9/9 [==============================] - 0s 2ms/step - loss: 1.1715 - accuracy: 0.8069\n",
            "Epoch 48/200\n",
            "9/9 [==============================] - 0s 2ms/step - loss: 1.0849 - accuracy: 0.8343\n",
            "Epoch 49/200\n",
            "9/9 [==============================] - 0s 2ms/step - loss: 1.2135 - accuracy: 0.8097\n",
            "Epoch 50/200\n",
            "9/9 [==============================] - 0s 2ms/step - loss: 1.0818 - accuracy: 0.8129\n",
            "Epoch 51/200\n",
            "9/9 [==============================] - 0s 2ms/step - loss: 1.0527 - accuracy: 0.8393\n",
            "Epoch 52/200\n",
            "9/9 [==============================] - 0s 2ms/step - loss: 1.1138 - accuracy: 0.8273\n",
            "Epoch 53/200\n",
            "9/9 [==============================] - 0s 2ms/step - loss: 1.1148 - accuracy: 0.8340\n",
            "Epoch 54/200\n",
            "9/9 [==============================] - 0s 2ms/step - loss: 1.2221 - accuracy: 0.8172\n",
            "Epoch 55/200\n",
            "9/9 [==============================] - 0s 2ms/step - loss: 0.9894 - accuracy: 0.8504\n",
            "Epoch 56/200\n",
            "9/9 [==============================] - 0s 2ms/step - loss: 1.1824 - accuracy: 0.8246\n",
            "Epoch 57/200\n",
            "9/9 [==============================] - 0s 2ms/step - loss: 0.9237 - accuracy: 0.8487\n",
            "Epoch 58/200\n",
            "9/9 [==============================] - 0s 2ms/step - loss: 0.9728 - accuracy: 0.8417\n",
            "Epoch 59/200\n",
            "9/9 [==============================] - 0s 2ms/step - loss: 1.0573 - accuracy: 0.8289\n",
            "Epoch 60/200\n",
            "9/9 [==============================] - 0s 2ms/step - loss: 0.9268 - accuracy: 0.8325\n",
            "Epoch 61/200\n",
            "9/9 [==============================] - 0s 2ms/step - loss: 0.9706 - accuracy: 0.8293\n",
            "Epoch 62/200\n",
            "9/9 [==============================] - 0s 2ms/step - loss: 0.8157 - accuracy: 0.8645\n",
            "Epoch 63/200\n",
            "9/9 [==============================] - 0s 2ms/step - loss: 0.9334 - accuracy: 0.8446\n",
            "Epoch 64/200\n",
            "9/9 [==============================] - 0s 2ms/step - loss: 0.9826 - accuracy: 0.8319\n",
            "Epoch 65/200\n",
            "9/9 [==============================] - 0s 2ms/step - loss: 1.0594 - accuracy: 0.8462\n",
            "Epoch 66/200\n",
            "9/9 [==============================] - 0s 2ms/step - loss: 0.9310 - accuracy: 0.8490\n",
            "Epoch 67/200\n",
            "9/9 [==============================] - 0s 2ms/step - loss: 0.9441 - accuracy: 0.8573\n",
            "Epoch 68/200\n",
            "9/9 [==============================] - 0s 2ms/step - loss: 0.8677 - accuracy: 0.8542\n",
            "Epoch 69/200\n",
            "9/9 [==============================] - 0s 2ms/step - loss: 0.9083 - accuracy: 0.8658\n",
            "Epoch 70/200\n",
            "9/9 [==============================] - 0s 2ms/step - loss: 0.9132 - accuracy: 0.8586\n",
            "Epoch 71/200\n",
            "9/9 [==============================] - 0s 2ms/step - loss: 0.9270 - accuracy: 0.8621\n",
            "Epoch 72/200\n",
            "9/9 [==============================] - 0s 2ms/step - loss: 1.0020 - accuracy: 0.8313\n",
            "Epoch 73/200\n",
            "9/9 [==============================] - 0s 2ms/step - loss: 0.8375 - accuracy: 0.8801\n",
            "Epoch 74/200\n",
            "9/9 [==============================] - 0s 2ms/step - loss: 0.9719 - accuracy: 0.8435\n",
            "Epoch 75/200\n",
            "9/9 [==============================] - 0s 2ms/step - loss: 0.7992 - accuracy: 0.8672\n",
            "Epoch 76/200\n",
            "9/9 [==============================] - 0s 2ms/step - loss: 0.9131 - accuracy: 0.8634\n",
            "Epoch 77/200\n",
            "9/9 [==============================] - 0s 2ms/step - loss: 0.8307 - accuracy: 0.8729\n",
            "Epoch 78/200\n",
            "9/9 [==============================] - 0s 2ms/step - loss: 0.9030 - accuracy: 0.8548\n",
            "Epoch 79/200\n",
            "9/9 [==============================] - 0s 2ms/step - loss: 0.8882 - accuracy: 0.8717\n",
            "Epoch 80/200\n",
            "9/9 [==============================] - 0s 2ms/step - loss: 0.8942 - accuracy: 0.8593\n",
            "Epoch 81/200\n",
            "9/9 [==============================] - 0s 2ms/step - loss: 0.8993 - accuracy: 0.8637\n",
            "Epoch 82/200\n",
            "9/9 [==============================] - 0s 2ms/step - loss: 1.0845 - accuracy: 0.8397\n",
            "Epoch 83/200\n",
            "9/9 [==============================] - 0s 2ms/step - loss: 0.9197 - accuracy: 0.8663\n",
            "Epoch 84/200\n",
            "9/9 [==============================] - 0s 2ms/step - loss: 0.8681 - accuracy: 0.8639\n",
            "Epoch 85/200\n",
            "9/9 [==============================] - 0s 2ms/step - loss: 0.8904 - accuracy: 0.8642\n",
            "Epoch 86/200\n",
            "9/9 [==============================] - 0s 3ms/step - loss: 0.9155 - accuracy: 0.8610\n",
            "Epoch 87/200\n",
            "9/9 [==============================] - 0s 2ms/step - loss: 0.8067 - accuracy: 0.8629\n",
            "Epoch 88/200\n",
            "9/9 [==============================] - 0s 2ms/step - loss: 0.7696 - accuracy: 0.8687\n",
            "Epoch 89/200\n",
            "9/9 [==============================] - 0s 2ms/step - loss: 0.8203 - accuracy: 0.8684\n",
            "Epoch 90/200\n",
            "9/9 [==============================] - 0s 2ms/step - loss: 0.9341 - accuracy: 0.8455\n",
            "Epoch 91/200\n",
            "9/9 [==============================] - 0s 2ms/step - loss: 0.8416 - accuracy: 0.8697\n",
            "Epoch 92/200\n",
            "9/9 [==============================] - 0s 2ms/step - loss: 0.8115 - accuracy: 0.8657\n",
            "Epoch 93/200\n",
            "9/9 [==============================] - 0s 2ms/step - loss: 0.8474 - accuracy: 0.8794\n",
            "Epoch 94/200\n",
            "9/9 [==============================] - 0s 2ms/step - loss: 0.8035 - accuracy: 0.8670\n",
            "Epoch 95/200\n",
            "9/9 [==============================] - 0s 2ms/step - loss: 0.8666 - accuracy: 0.8728\n",
            "Epoch 96/200\n",
            "9/9 [==============================] - 0s 2ms/step - loss: 0.8737 - accuracy: 0.8718\n",
            "Epoch 97/200\n",
            "9/9 [==============================] - 0s 2ms/step - loss: 0.8295 - accuracy: 0.8723\n",
            "Epoch 98/200\n",
            "9/9 [==============================] - 0s 2ms/step - loss: 0.8121 - accuracy: 0.8756\n",
            "Epoch 99/200\n",
            "9/9 [==============================] - 0s 2ms/step - loss: 0.9475 - accuracy: 0.8680\n",
            "Epoch 100/200\n",
            "9/9 [==============================] - 0s 2ms/step - loss: 0.8062 - accuracy: 0.8725\n",
            "Epoch 101/200\n",
            "9/9 [==============================] - 0s 2ms/step - loss: 0.8229 - accuracy: 0.8707\n",
            "Epoch 102/200\n",
            "9/9 [==============================] - 0s 2ms/step - loss: 0.9291 - accuracy: 0.8616\n",
            "Epoch 103/200\n",
            "9/9 [==============================] - 0s 2ms/step - loss: 0.7893 - accuracy: 0.8740\n",
            "Epoch 104/200\n",
            "9/9 [==============================] - 0s 2ms/step - loss: 0.8968 - accuracy: 0.8781\n",
            "Epoch 105/200\n",
            "9/9 [==============================] - 0s 2ms/step - loss: 0.8355 - accuracy: 0.8695\n",
            "Epoch 106/200\n",
            "9/9 [==============================] - 0s 2ms/step - loss: 0.7866 - accuracy: 0.8879\n",
            "Epoch 107/200\n",
            "9/9 [==============================] - 0s 2ms/step - loss: 0.9048 - accuracy: 0.8741\n",
            "Epoch 108/200\n",
            "9/9 [==============================] - 0s 2ms/step - loss: 0.8557 - accuracy: 0.8734\n",
            "Epoch 109/200\n",
            "9/9 [==============================] - 0s 2ms/step - loss: 0.7883 - accuracy: 0.8801\n",
            "Epoch 110/200\n",
            "9/9 [==============================] - 0s 2ms/step - loss: 0.8345 - accuracy: 0.8663\n",
            "Epoch 111/200\n",
            "9/9 [==============================] - 0s 2ms/step - loss: 0.7657 - accuracy: 0.8808\n",
            "Epoch 112/200\n",
            "9/9 [==============================] - 0s 3ms/step - loss: 0.6825 - accuracy: 0.9018\n",
            "Epoch 113/200\n",
            "9/9 [==============================] - 0s 2ms/step - loss: 0.7222 - accuracy: 0.8869\n",
            "Epoch 114/200\n",
            "9/9 [==============================] - 0s 2ms/step - loss: 0.9516 - accuracy: 0.8527\n",
            "Epoch 115/200\n",
            "9/9 [==============================] - 0s 2ms/step - loss: 0.8646 - accuracy: 0.8648\n",
            "Epoch 116/200\n",
            "9/9 [==============================] - 0s 2ms/step - loss: 0.7630 - accuracy: 0.8906\n",
            "Epoch 117/200\n",
            "9/9 [==============================] - 0s 2ms/step - loss: 0.7293 - accuracy: 0.8838\n",
            "Epoch 118/200\n",
            "9/9 [==============================] - 0s 2ms/step - loss: 0.7693 - accuracy: 0.8803\n",
            "Epoch 119/200\n",
            "9/9 [==============================] - 0s 3ms/step - loss: 0.8124 - accuracy: 0.8790\n",
            "Epoch 120/200\n",
            "9/9 [==============================] - 0s 2ms/step - loss: 0.7315 - accuracy: 0.8890\n",
            "Epoch 121/200\n",
            "9/9 [==============================] - 0s 2ms/step - loss: 0.8510 - accuracy: 0.8862\n",
            "Epoch 122/200\n",
            "9/9 [==============================] - 0s 2ms/step - loss: 0.7641 - accuracy: 0.8837\n",
            "Epoch 123/200\n",
            "9/9 [==============================] - 0s 2ms/step - loss: 0.7812 - accuracy: 0.8769\n",
            "Epoch 124/200\n",
            "9/9 [==============================] - 0s 2ms/step - loss: 0.8006 - accuracy: 0.8729\n",
            "Epoch 125/200\n",
            "9/9 [==============================] - 0s 2ms/step - loss: 0.8514 - accuracy: 0.8705\n",
            "Epoch 126/200\n",
            "9/9 [==============================] - 0s 2ms/step - loss: 0.6859 - accuracy: 0.8933\n",
            "Epoch 127/200\n",
            "9/9 [==============================] - 0s 2ms/step - loss: 0.7984 - accuracy: 0.8905\n",
            "Epoch 128/200\n",
            "9/9 [==============================] - 0s 3ms/step - loss: 0.7496 - accuracy: 0.8846\n",
            "Epoch 129/200\n",
            "9/9 [==============================] - 0s 2ms/step - loss: 0.7705 - accuracy: 0.8854\n",
            "Epoch 130/200\n",
            "9/9 [==============================] - 0s 2ms/step - loss: 0.7015 - accuracy: 0.8919\n",
            "Epoch 131/200\n",
            "9/9 [==============================] - 0s 2ms/step - loss: 0.7704 - accuracy: 0.8879\n",
            "Epoch 132/200\n",
            "9/9 [==============================] - 0s 2ms/step - loss: 0.7458 - accuracy: 0.8922\n",
            "Epoch 133/200\n",
            "9/9 [==============================] - 0s 2ms/step - loss: 0.8972 - accuracy: 0.8663\n",
            "Epoch 134/200\n",
            "9/9 [==============================] - 0s 2ms/step - loss: 0.7380 - accuracy: 0.8876\n",
            "Epoch 135/200\n",
            "9/9 [==============================] - 0s 2ms/step - loss: 0.6726 - accuracy: 0.8938\n",
            "Epoch 136/200\n",
            "9/9 [==============================] - 0s 3ms/step - loss: 0.8262 - accuracy: 0.8842\n",
            "Epoch 137/200\n",
            "9/9 [==============================] - 0s 2ms/step - loss: 0.7631 - accuracy: 0.8837\n",
            "Epoch 138/200\n",
            "9/9 [==============================] - 0s 2ms/step - loss: 0.6899 - accuracy: 0.8873\n",
            "Epoch 139/200\n",
            "9/9 [==============================] - 0s 2ms/step - loss: 0.6052 - accuracy: 0.9030\n",
            "Epoch 140/200\n",
            "9/9 [==============================] - 0s 2ms/step - loss: 0.7088 - accuracy: 0.8988\n",
            "Epoch 141/200\n",
            "9/9 [==============================] - 0s 2ms/step - loss: 0.8090 - accuracy: 0.8797\n",
            "Epoch 142/200\n",
            "9/9 [==============================] - 0s 2ms/step - loss: 0.6490 - accuracy: 0.8929\n",
            "Epoch 143/200\n",
            "9/9 [==============================] - 0s 2ms/step - loss: 0.6595 - accuracy: 0.9002\n",
            "Epoch 144/200\n",
            "9/9 [==============================] - 0s 2ms/step - loss: 0.6792 - accuracy: 0.8861\n",
            "Epoch 145/200\n",
            "9/9 [==============================] - 0s 2ms/step - loss: 0.6950 - accuracy: 0.8833\n",
            "Epoch 146/200\n",
            "9/9 [==============================] - 0s 2ms/step - loss: 0.8001 - accuracy: 0.8792\n",
            "Epoch 147/200\n",
            "9/9 [==============================] - 0s 2ms/step - loss: 0.6941 - accuracy: 0.9015\n",
            "Epoch 148/200\n",
            "9/9 [==============================] - 0s 2ms/step - loss: 0.8312 - accuracy: 0.8853\n",
            "Epoch 149/200\n",
            "9/9 [==============================] - 0s 2ms/step - loss: 0.8711 - accuracy: 0.8833\n",
            "Epoch 150/200\n",
            "9/9 [==============================] - 0s 2ms/step - loss: 0.6717 - accuracy: 0.9083\n",
            "Epoch 151/200\n",
            "9/9 [==============================] - 0s 3ms/step - loss: 0.6227 - accuracy: 0.8955\n",
            "Epoch 152/200\n",
            "9/9 [==============================] - 0s 3ms/step - loss: 0.7396 - accuracy: 0.8812\n",
            "Epoch 153/200\n",
            "9/9 [==============================] - 0s 3ms/step - loss: 0.7685 - accuracy: 0.8826\n",
            "Epoch 154/200\n",
            "9/9 [==============================] - 0s 2ms/step - loss: 0.7591 - accuracy: 0.8823\n",
            "Epoch 155/200\n",
            "9/9 [==============================] - 0s 2ms/step - loss: 0.7335 - accuracy: 0.8849\n",
            "Epoch 156/200\n",
            "9/9 [==============================] - 0s 2ms/step - loss: 0.8647 - accuracy: 0.8632\n",
            "Epoch 157/200\n",
            "9/9 [==============================] - 0s 2ms/step - loss: 0.7995 - accuracy: 0.8785\n",
            "Epoch 158/200\n",
            "9/9 [==============================] - 0s 2ms/step - loss: 0.8394 - accuracy: 0.8689\n",
            "Epoch 159/200\n",
            "9/9 [==============================] - 0s 2ms/step - loss: 0.8809 - accuracy: 0.8697\n",
            "Epoch 160/200\n",
            "9/9 [==============================] - 0s 2ms/step - loss: 0.6800 - accuracy: 0.8776\n",
            "Epoch 161/200\n",
            "9/9 [==============================] - 0s 2ms/step - loss: 0.7582 - accuracy: 0.8826\n",
            "Epoch 162/200\n",
            "9/9 [==============================] - 0s 2ms/step - loss: 0.6743 - accuracy: 0.9003\n",
            "Epoch 163/200\n",
            "9/9 [==============================] - 0s 2ms/step - loss: 0.8675 - accuracy: 0.8656\n",
            "Epoch 164/200\n",
            "9/9 [==============================] - 0s 2ms/step - loss: 0.6614 - accuracy: 0.8936\n",
            "Epoch 165/200\n",
            "9/9 [==============================] - 0s 2ms/step - loss: 0.6664 - accuracy: 0.8944\n",
            "Epoch 166/200\n",
            "9/9 [==============================] - 0s 2ms/step - loss: 0.9138 - accuracy: 0.8705\n",
            "Epoch 167/200\n",
            "9/9 [==============================] - 0s 3ms/step - loss: 0.7120 - accuracy: 0.8951\n",
            "Epoch 168/200\n",
            "9/9 [==============================] - 0s 2ms/step - loss: 0.7993 - accuracy: 0.8696\n",
            "Epoch 169/200\n",
            "9/9 [==============================] - 0s 2ms/step - loss: 0.6957 - accuracy: 0.8962\n",
            "Epoch 170/200\n",
            "9/9 [==============================] - 0s 2ms/step - loss: 0.4980 - accuracy: 0.9157\n",
            "Epoch 171/200\n",
            "9/9 [==============================] - 0s 2ms/step - loss: 0.6208 - accuracy: 0.8936\n",
            "Epoch 172/200\n",
            "9/9 [==============================] - 0s 2ms/step - loss: 0.7279 - accuracy: 0.8768\n",
            "Epoch 173/200\n",
            "9/9 [==============================] - 0s 3ms/step - loss: 0.5375 - accuracy: 0.9074\n",
            "Epoch 174/200\n",
            "9/9 [==============================] - 0s 3ms/step - loss: 0.6285 - accuracy: 0.8869\n",
            "Epoch 175/200\n",
            "9/9 [==============================] - 0s 2ms/step - loss: 0.6266 - accuracy: 0.8897\n",
            "Epoch 176/200\n",
            "9/9 [==============================] - 0s 2ms/step - loss: 0.6451 - accuracy: 0.8957\n",
            "Epoch 177/200\n",
            "9/9 [==============================] - 0s 2ms/step - loss: 0.6687 - accuracy: 0.8897\n",
            "Epoch 178/200\n",
            "9/9 [==============================] - 0s 2ms/step - loss: 0.5469 - accuracy: 0.9023\n",
            "Epoch 179/200\n",
            "9/9 [==============================] - 0s 2ms/step - loss: 0.5693 - accuracy: 0.9001\n",
            "Epoch 180/200\n",
            "9/9 [==============================] - 0s 2ms/step - loss: 0.6040 - accuracy: 0.8892\n",
            "Epoch 181/200\n",
            "9/9 [==============================] - 0s 2ms/step - loss: 0.6417 - accuracy: 0.9069\n",
            "Epoch 182/200\n",
            "9/9 [==============================] - 0s 2ms/step - loss: 0.5633 - accuracy: 0.8926\n",
            "Epoch 183/200\n",
            "9/9 [==============================] - 0s 2ms/step - loss: 0.5704 - accuracy: 0.9035\n",
            "Epoch 184/200\n",
            "9/9 [==============================] - 0s 2ms/step - loss: 0.7329 - accuracy: 0.8939\n",
            "Epoch 185/200\n",
            "9/9 [==============================] - 0s 2ms/step - loss: 0.5562 - accuracy: 0.8956\n",
            "Epoch 186/200\n",
            "9/9 [==============================] - 0s 2ms/step - loss: 0.6406 - accuracy: 0.8814\n",
            "Epoch 187/200\n",
            "9/9 [==============================] - 0s 2ms/step - loss: 0.5298 - accuracy: 0.9006\n",
            "Epoch 188/200\n",
            "9/9 [==============================] - 0s 2ms/step - loss: 0.5774 - accuracy: 0.9001\n",
            "Epoch 189/200\n",
            "9/9 [==============================] - 0s 2ms/step - loss: 0.6454 - accuracy: 0.8882\n",
            "Epoch 190/200\n",
            "9/9 [==============================] - 0s 2ms/step - loss: 0.6083 - accuracy: 0.8750\n",
            "Epoch 191/200\n",
            "9/9 [==============================] - 0s 2ms/step - loss: 0.5247 - accuracy: 0.9054\n",
            "Epoch 192/200\n",
            "9/9 [==============================] - 0s 2ms/step - loss: 0.6918 - accuracy: 0.8766\n",
            "Epoch 193/200\n",
            "9/9 [==============================] - 0s 2ms/step - loss: 0.5180 - accuracy: 0.8907\n",
            "Epoch 194/200\n",
            "9/9 [==============================] - 0s 2ms/step - loss: 0.5076 - accuracy: 0.9013\n",
            "Epoch 195/200\n",
            "9/9 [==============================] - 0s 2ms/step - loss: 0.5823 - accuracy: 0.8882\n",
            "Epoch 196/200\n",
            "9/9 [==============================] - 0s 2ms/step - loss: 0.6836 - accuracy: 0.8852\n",
            "Epoch 197/200\n",
            "9/9 [==============================] - 0s 2ms/step - loss: 0.5796 - accuracy: 0.9001\n",
            "Epoch 198/200\n",
            "9/9 [==============================] - 0s 2ms/step - loss: 0.4270 - accuracy: 0.9161\n",
            "Epoch 199/200\n",
            "9/9 [==============================] - 0s 2ms/step - loss: 0.5065 - accuracy: 0.9041\n",
            "Epoch 200/200\n",
            "9/9 [==============================] - 0s 2ms/step - loss: 0.5874 - accuracy: 0.9029\n"
          ],
          "name": "stdout"
        }
      ]
    },
    {
      "cell_type": "code",
      "metadata": {
        "id": "6FsiR9Cg-02N",
        "colab": {
          "base_uri": "https://localhost:8080/",
          "height": 573
        },
        "outputId": "0378dbf1-b21a-40fe-b11b-8021b11fb557"
      },
      "source": [
        "import matplotlib.pyplot as plt\n",
        "plt.plot(history.history['loss'])\n",
        "plt.title('Model loss')\n",
        "plt.ylabel('Loss')\n",
        "plt.xlabel('Epoch')\n",
        "plt.legend(['Train', 'Val'], loc='upper right')\n",
        "plt.show()\n",
        "plt.plot(history.history['accuracy'])\n",
        "plt.title('Model accuracy')\n",
        "plt.ylabel('Accuracy')\n",
        "plt.xlabel('Epoch')\n",
        "plt.legend(['Train', 'Val'], loc='lower right')\n",
        "plt.show()"
      ],
      "execution_count": 10,
      "outputs": [
        {
          "output_type": "display_data",
          "data": {
            "image/png": "[encoded data removed]",
            "text/plain": [
              "<Figure size 432x288 with 1 Axes>"
            ]
          },
          "metadata": {
            "tags": [],
            "needs_background": "light"
          }
        },
        {
          "output_type": "display_data",
          "data": {
            "image/png": "[encoded data removed]",
            "text/plain": [
              "<Figure size 432x288 with 1 Axes>"
            ]
          },
          "metadata": {
            "tags": [],
            "needs_background": "light"
          }
        }
      ]
    },
    {
      "cell_type": "code",
      "metadata": {
        "id": "E9lGbLFU-44T",
        "colab": {
          "base_uri": "https://localhost:8080/"
        },
        "outputId": "98d808bd-cf14-4a5b-f63f-42df3a3f9158"
      },
      "source": [
        "model.evaluate(X_test, y_test)[1]\n",
        "#評估準確度 [1]=accuracy [0]=loss\n",
        "#print(X_train.shape,X_test.shape,y_train.shape,y_test.shape)"
      ],
      "execution_count": 11,
      "outputs": [
        {
          "output_type": "stream",
          "text": [
            "2/2 [==============================] - 0s 5ms/step - loss: 0.7959 - accuracy: 0.8750\n"
          ],
          "name": "stdout"
        },
        {
          "output_type": "execute_result",
          "data": {
            "text/plain": [
              "0.875"
            ]
          },
          "metadata": {
            "tags": []
          },
          "execution_count": 11
        }
      ]
    }
  ]
}